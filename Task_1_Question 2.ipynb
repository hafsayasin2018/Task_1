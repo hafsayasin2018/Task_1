{
  "nbformat": 4,
  "nbformat_minor": 0,
  "metadata": {
    "colab": {
      "provenance": []
    },
    "kernelspec": {
      "name": "python3",
      "display_name": "Python 3"
    },
    "language_info": {
      "name": "python"
    }
  },
  "cells": [
    {
      "cell_type": "code",
      "source": [
        "def is_prime(n):\n",
        "  n= int(input())\n",
        "  for i in range(2,int(n/2)):\n",
        "    if (n%i) == 0:\n",
        "      return -1\n",
        "      return 1\n",
        "is_prime(n)"
      ],
      "metadata": {
        "colab": {
          "base_uri": "https://localhost:8080/"
        },
        "id": "G_vX4Fdt3p6e",
        "outputId": "b9216aa6-4681-41d1-851b-4a979122df21"
      },
      "execution_count": 50,
      "outputs": [
        {
          "name": "stdout",
          "output_type": "stream",
          "text": [
            "12\n"
          ]
        },
        {
          "output_type": "execute_result",
          "data": {
            "text/plain": [
              "-1"
            ]
          },
          "metadata": {},
          "execution_count": 50
        }
      ]
    },
    {
      "cell_type": "code",
      "source": [
        "lower_value = int(input (\"Please, Enter the Lowest Range Value: \"))  \n",
        "upper_value = int(input (\"Please, Enter the Upper Range Value: \"))  \n",
        "sum = 0;\n",
        "print (\"The Prime Numbers in the range are: \")  \n",
        "for number in range (lower_value, upper_value + 1):  \n",
        "    if number > 1:  \n",
        "        for i in range (2, number):  \n",
        "            if (number % i) == 0:  \n",
        "                break  \n",
        "        else:\n",
        "          sum = sum + i;\n",
        "          print (\"sum\",sum)  "
      ],
      "metadata": {
        "colab": {
          "base_uri": "https://localhost:8080/"
        },
        "id": "cAp3CKg35OE_",
        "outputId": "ec4434be-541e-4fb7-839e-d7041411cec8"
      },
      "execution_count": 52,
      "outputs": [
        {
          "output_type": "stream",
          "name": "stdout",
          "text": [
            "Please, Enter the Lowest Range Value: 3\n",
            "Please, Enter the Upper Range Value: 9\n",
            "The Prime Numbers in the range are: \n",
            "2\n",
            "6\n",
            "12\n"
          ]
        }
      ]
    }
  ]
}