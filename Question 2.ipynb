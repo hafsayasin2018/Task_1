{
  "nbformat": 4,
  "nbformat_minor": 0,
  "metadata": {
    "colab": {
      "provenance": []
    },
    "kernelspec": {
      "name": "python3",
      "display_name": "Python 3"
    },
    "language_info": {
      "name": "python"
    }
  },
  "cells": [
    {
      "cell_type": "code",
      "source": [
        "check_prime = int(input(\"Enter the number\"))\n",
        "def is_prime(check_prime):\n",
        "  if check_prime > 1:\n",
        "      return -1\n",
        "\n",
        "  for i in range(2,(check_prime)):\n",
        "      if (check_prime%i) == 0:\n",
        "        return -1\n",
        "\n",
        "    \n",
        "  return sum(range(check_prime+1))\n",
        "is_prime(check_prime)\n",
        "\n",
        "\n"
      ],
      "metadata": {
        "id": "b7quNOz6Kza-",
        "colab": {
          "base_uri": "https://localhost:8080/"
        },
        "outputId": "8ae2df8a-b052-48e7-a86b-9d9945231a29"
      },
      "execution_count": 65,
      "outputs": [
        {
          "name": "stdout",
          "output_type": "stream",
          "text": [
            "Enter the number4\n"
          ]
        },
        {
          "output_type": "execute_result",
          "data": {
            "text/plain": [
              "-1"
            ]
          },
          "metadata": {},
          "execution_count": 65
        }
      ]
    }
  ]
}